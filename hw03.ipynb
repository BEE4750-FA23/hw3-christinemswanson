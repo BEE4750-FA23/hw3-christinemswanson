{
  "cells": [
    {
      "cell_type": "markdown",
      "metadata": {},
      "source": [
        "# BEE 4750 Homework 3: Uncertain Sea-Level Rise and Levee Reliability\n",
        "\n",
        "**Name**:\n",
        "\n",
        "**ID**:\n",
        "\n",
        "> **Due Date**\n",
        ">\n",
        "> Friday, 10/06/23, 9:00pm\n",
        "\n",
        "## Overview\n",
        "\n",
        "### Instructions\n",
        "\n",
        "This assignment asks you to conduct a Monte Carlo analysis of levee\n",
        "reliability in the face of uncertain changes to local sea levels. You\n",
        "will propagate uncertainty in equilibrium climate sensitivity through\n",
        "the energy balance model to obtain a distribution of temperatures, which\n",
        "will then drive a model of sea-level rise. You will finally use this\n",
        "distribution to assess the probability that a planned levee will achieve\n",
        "its desired reliability standard.\n",
        "\n",
        "### Load Environment\n",
        "\n",
        "The following code loads the environment and makes sure all needed\n",
        "packages are installed. This should be at the start of most Julia\n",
        "scripts."
      ],
      "id": "509769d1-4dbe-44e8-818d-18d070467f31"
    },
    {
      "cell_type": "code",
      "execution_count": 1,
      "metadata": {},
      "outputs": [],
      "source": [
        "import Pkg\n",
        "Pkg.activate(@__DIR__)\n",
        "Pkg.instantiate()"
      ],
      "id": "f374c5cf"
    },
    {
      "cell_type": "code",
      "execution_count": 2,
      "metadata": {},
      "outputs": [],
      "source": [
        "using Random\n",
        "using Plots\n",
        "using LaTeXStrings\n",
        "using Distributions\n",
        "using CSV\n",
        "using DataFrames"
      ],
      "id": "5950909e"
    },
    {
      "cell_type": "markdown",
      "metadata": {},
      "source": [
        "## Problems (Total: 40 Points)"
      ],
      "id": "c24fdffe-69e9-498f-8d29-ca5742f30bcc"
    },
    {
      "cell_type": "markdown",
      "metadata": {},
      "source": [
        "### Problem 1 (12 points)\n",
        "\n",
        "Recall from class that the simple energy balance model (EBM) of\n",
        "planetary energy balance links changes in radiative forcing ($F$) to\n",
        "global mean temperature ($T$) changes through the discretized equation\n",
        "$$T_{i+1} = T_{i} + \\frac{F_i - \\lambda T_i}{cd} \\times \\Delta t,$$\n",
        "where $i$ is the current time step, $c = 4.184 \\times 10^6$\n",
        "J/K/m<sup>2</sup> is the heat capacity of water per unit area, $d$ is\n",
        "the (uncertain) depth of the mixing layer, $\\Delta t$ is the annual time\n",
        "step in seconds and $\\lambda = F_{\\text{2xCO}_2}/S$ is the climate\n",
        "feedback parameter in W/m<sup>2</sup>/$^\\circ$ C, where $S$ is the\n",
        "equilibrium climate sensitivity (the uncertain equilibrium temperature\n",
        "change resulting from a doubling of atmospheric CO<sub>2</sub>).\n",
        "Finally, while total radiative forcing can be the result of non-aerosol\n",
        "and aerosol effects, we do not know the relative intensity of aerosol\n",
        "forcing, so we represent this with an uncertain aerosol scaling factor\n",
        "$\\alpha$.\n",
        "\n",
        "We can implement this model with the following Julia function. We will\n",
        "assume an ocean mixing depth $d = 100$ m and an aerosol scaling factor\n",
        "$\\alpha = 1.3$ so we can focus on the uncertainty in $S$.\n",
        "\n",
        "The last technical concern is that “global mean temperature” does not\n",
        "make sense in absolute terms as a marker of climate change. Instead, we\n",
        "typically refer to temperature changes relative to some historical\n",
        "pre-industrial baseline. In this case, we will use the period from\n",
        "1880-1900, though this choice can vary."
      ],
      "id": "0ba02b36-a65b-4f12-953b-242235758f4e"
    },
    {
      "cell_type": "code",
      "execution_count": 3,
      "metadata": {},
      "outputs": [
        {
          "output_type": "display_data",
          "metadata": {},
          "data": {
            "text/plain": [
              "energy_balance_model (generic function with 1 method)"
            ]
          }
        }
      ],
      "source": [
        "# we need to split up the aerosol and non-aerosol forcings when we call the function\n",
        "function energy_balance_model(S, forcing_aerosol, forcing_non_aerosol)\n",
        "    d = 100 # ocean mixing depth [m]\n",
        "    α = 1.3 # aerosol scaling factor\n",
        "    F2xCO₂ = 4.0 # radiative forcing [W/m²] for a doubling of CO₂\n",
        "    λ = F2xCO₂/S\n",
        "    \n",
        "    c = 4.184e6 # heat capacity/area [J/K/m²]\n",
        "    C = c*d # heat capacity of mixed layer (per area)\n",
        "\n",
        "    F = forcing_non_aerosol + α*forcing_aerosol # radiative forcing\n",
        "\n",
        "    Δt = 31558152.0 # annual timestep [s]\n",
        "    \n",
        "    T = zero(F)\n",
        "    for i in 1:length(F)-1\n",
        "        T[i+1] = T[i] + (F[i] - λ*T[i])/C * Δt\n",
        "    end\n",
        "    # return temperature anomaly relative to 1880-1900 baseline\n",
        "    return T .- mean(T[1:21]) \n",
        "end"
      ],
      "id": "35e596e2"
    },
    {
      "cell_type": "markdown",
      "metadata": {},
      "source": [
        "Finally, we need to load some radiative forcing data. We will use the\n",
        "radiative forcing scenario RCP 8.5. We can load this data, which is in a\n",
        "`.csv` (comma-delimited) file, into a `DataFrame`, which is a tabular\n",
        "data structure. Rows and columns in a `DataFrame` can be accessed using\n",
        "their numerical index (like a matrix), but columns also have names; you\n",
        "can access a particular column in a dataframe `df` by name using\n",
        "`df.colname` or `df[:, \"colname\"]`.\n",
        "\n",
        "Of note: this data set goes from 1750–2500, so you will need to take\n",
        "care to make sure you are using the right years at each step. For\n",
        "example, here we will constrain the data to 1880–2100, which is the\n",
        "period we are interested in."
      ],
      "id": "dee81c2f-cff3-4eab-a79b-6c930a69c563"
    },
    {
      "cell_type": "code",
      "execution_count": 4,
      "metadata": {},
      "outputs": [
        {
          "output_type": "display_data",
          "metadata": {},
          "data": {
            "text/plain": [
              "221-element Vector{Float64}:\n",
              "  0.42741479112315905\n",
              "  0.4487940147601447\n",
              "  0.4900144276528058\n",
              " -0.019811270078689047\n",
              " -1.480725700367619\n",
              " -0.3154905163510021\n",
              "  0.233186559774844\n",
              "  0.2923308952663089\n",
              "  0.45833872365810924\n",
              "  0.5168189581089915\n",
              "  0.4144761329626494\n",
              "  0.2762327724171124\n",
              "  0.48656957869238376\n",
              "  ⋮\n",
              "  9.560222650653953\n",
              "  9.671039126229665\n",
              "  9.772610821460296\n",
              "  9.879065698371564\n",
              "  9.946850640754889\n",
              " 10.002169546141578\n",
              " 10.061009359425011\n",
              " 10.115684195707905\n",
              " 10.182946497594184\n",
              " 10.249699157847772\n",
              " 10.331407709334023\n",
              " 10.424544495740134"
            ]
          }
        }
      ],
      "source": [
        "# The CSV is read into a DataFrame object, and we specify that it is comma delimited\n",
        "forcings_all_85 = CSV.read(\"data/ERF_ssp585_1750-2500.csv\", DataFrame, delim=\",\")\n",
        "\n",
        "# get the years corresponding to the forcings\n",
        "t = Int64.(forcings_all_85[!,\"year\"]) # Ensure that years are interpreted as integers\n",
        "# find the indices of the years 1880 and 2100\n",
        "# we can do this with the indexin function\n",
        "time_bounds = indexin([1880, 2100], t)\n",
        "years = time_bounds[1]:time_bounds[2] # create range of years\n",
        "\n",
        "# Separate out the individual components\n",
        "forcing_co2_85 = forcings_all_85[years,\"co2\"]\n",
        "# Get total aerosol and non-aerosol forcings\n",
        "forcing_aerosol_rad_85 = forcings_all_85[years,\"aerosol-radiation_interactions\"]\n",
        "forcing_aerosol_cloud_85 = forcings_all_85[years,\"aerosol-cloud_interactions\"]\n",
        "forcing_aerosol_85 = forcing_aerosol_rad_85 + forcing_aerosol_cloud_85 # aerosol forcings\n",
        "forcing_total_85 = forcings_all_85[years,\"total\"] \n",
        "forcing_non_aerosol_85 = forcing_total_85 - forcing_aerosol_85 # non-aerosol forcings"
      ],
      "id": "0fec7f7c"
    },
    {
      "cell_type": "markdown",
      "metadata": {},
      "source": [
        "For this assignment, you can use the `forcing_aerosol_85` and\n",
        "`forcing_non_aerosol_85` vectors as is to correspond to the relevant\n",
        "forcings. You will need to use the vector `t` to find the appropriate\n",
        "years for analysis."
      ],
      "id": "07dfa4bf-cb16-4ade-bdd3-559ef884966c"
    },
    {
      "cell_type": "markdown",
      "metadata": {},
      "source": [
        "#### Problem 1.1 (3 points)\n",
        "\n",
        "Assume that $S$ is distributed according to\n",
        "$\\text{LogNormal}(\\log(3.2), \\log{2}/3)$ (as in class). Draw 10,000\n",
        "samples from this distribution and make a histogram."
      ],
      "id": "425322b1-4c21-4d08-bd2c-2e73bdc41a0f"
    },
    {
      "cell_type": "markdown",
      "metadata": {},
      "source": [
        "#### Problem 1.2 (5 points)\n",
        "\n",
        "Use the EBM to propagate your samples of $S$ to a distribution of global\n",
        "mean temperature. Plot the median and 90% predictive distribution\n",
        "(between the .05 and .95 quantiles) from 1880-2100."
      ],
      "id": "b0603e71-5b75-4d9a-b2bc-f34d198430f4"
    },
    {
      "cell_type": "markdown",
      "metadata": {},
      "source": [
        "#### Problem 1.3 (4 points)\n",
        "\n",
        "Make a histogram of global mean temperature projections in 2100. If you\n",
        "compare this distribution to the distribution of $S$ from Problem 1.1,\n",
        "what do you observe?"
      ],
      "id": "ff0d3a36-ede7-42da-9e80-fac491043242"
    },
    {
      "cell_type": "markdown",
      "metadata": {},
      "source": [
        "### Problem 2 (15 points)\n",
        "\n",
        "Changes to global temperatures cause changes in global sea levels\n",
        "through several mechanisms, including thermal expansion (the change in\n",
        "ocean volume due to increased heat content) and melting land-based ice.\n",
        "One simple way to represent this link is through the following model,\n",
        "proposed by [Rahmstorf (2007)](https://doi.org/10.1126/science.1135456).\n",
        "\n",
        "$$\\frac{dH}{dt} = a(T-T_0),$$\n",
        "\n",
        "where $H$ is the global mean sea level in mm, $T$ is global mean\n",
        "temperature, $T_0$ is an equilibrium temperature (where there is no\n",
        "change in sea levels), and $a$ is a proportionality constant. This model\n",
        "can be discretized to give $$H_{i+1} - H_i = a (T_i - T_0).$$\n",
        "\n",
        "Note that, like with global mean temperature, the notion of “global mean\n",
        "sea level” does not make sense in absolute terms (were sea levels ever\n",
        "at “zero”?). Instead, we want to normalize this relative to some\n",
        "historical baseline. In this case (with a view towards Problem 3), we\n",
        "will compute our sea levels relative to the 2010 sea level. Note that in\n",
        "addition to the model parameters, we also need an initial sea-level\n",
        "parameter $H_0$ which will give us the right anomaly level.\n",
        "\n",
        "The best estimates for these parameters are:\n",
        "\n",
        "-   $a = 1.86$;\n",
        "-   $H_0 = -223$;\n",
        "-   $T_0 = -0.62$"
      ],
      "id": "1c2373ea-5fe6-460a-b713-32048d2fc4da"
    },
    {
      "cell_type": "markdown",
      "metadata": {},
      "source": [
        "#### Problem 2.1 (5 points)\n",
        "\n",
        "Write a function `sea_level_model()` to implement the mathematical\n",
        "sea-level rise model described above. It should take in needed\n",
        "parameters and a vector of temperatures and return a vector of sea\n",
        "levels. To test your function, use the provided temperature series\n",
        "`historical_temps` (read in below) to compute the global mean sea level\n",
        "anomaly in 2022 (the last year of the dataset) with the parameter values\n",
        "above; you should get a value of approximately 40mm."
      ],
      "id": "867f3f05-761d-45c2-9ded-d46b05445f3a"
    },
    {
      "cell_type": "code",
      "execution_count": 5,
      "metadata": {},
      "outputs": [
        {
          "output_type": "display_data",
          "metadata": {},
          "data": {
            "text/plain": [
              "143-element Vector{Float64}:\n",
              "  0.07297116761904765\n",
              "  0.15655772761904765\n",
              "  0.09327316761904769\n",
              "  0.04232884761904765\n",
              " -0.10351681238095234\n",
              " -0.08232033238095232\n",
              " -0.03210037238095231\n",
              " -0.10998251238095236\n",
              "  0.00942435761904764\n",
              "  0.13890768761904768\n",
              " -0.11805492238095233\n",
              " -0.012511692380952344\n",
              " -0.11875525238095236\n",
              "  ⋮\n",
              "  0.9265009776190476\n",
              "  0.9664103476190478\n",
              "  1.0123786476190477\n",
              "  1.0616748976190478\n",
              "  1.2139176176190476\n",
              "  1.3217303776190477\n",
              "  1.2339774976190476\n",
              "  1.1514572476190477\n",
              "  1.2798758476190477\n",
              "  1.3115970476190477\n",
              "  1.1506591476190478\n",
              "  1.1896871476190476"
            ]
          }
        }
      ],
      "source": [
        "historical_temp_data = CSV.read(\"data/HadCRUT.5.0.1.0.analysis.summary_series.global.annual.csv\", DataFrame, delim=\",\")\n",
        "# column 2 is the temperature anomaly, column 1 is the year\n",
        "temp_bds = indexin([1880, 1900], historical_temp_data[!, 1]) # find the index of 2010 for normalization\n",
        "historical_temp_data[:, 2] .-= mean(historical_temp_data[temp_bds[1]:temp_bds[2], 2])\n",
        "historical_temps = historical_temp_data[temp_bds[1]:end, 2]"
      ],
      "id": "88451593"
    },
    {
      "cell_type": "markdown",
      "metadata": {},
      "source": [
        "#### Problem 2.2 (5 points)\n",
        "\n",
        "Evaluate `sea_level_model()` using the projected temperature ensemble\n",
        "from Problem 1. Plot the 90% projection interval of the sea levels."
      ],
      "id": "df6cd0a1-b505-441e-8bb5-a6324b87a86f"
    },
    {
      "cell_type": "markdown",
      "metadata": {},
      "source": [
        "#### Problem 2.3 (5 points)\n",
        "\n",
        "Make a histogram of the sea-level anomaly in 2100. What can you observe\n",
        "about how the ECS uncertainty has impacted sea-level uncertainty under\n",
        "this radiative forcing scenario? What might the implications be of only\n",
        "using the best-estimate ECS value?"
      ],
      "id": "de05755b-2bd7-481c-90a2-a10b926c357d"
    },
    {
      "cell_type": "markdown",
      "metadata": {},
      "source": [
        "### Problem 3 (13 points)\n",
        "\n",
        "You’ve been asked to consult on a levee reliability analysis. For\n",
        "context, levees in the United States are supposed to only fail once in\n",
        "100 years, or, in other words, to have at most a 1% chance of failure in\n",
        "a given year. We will assume for this problem that the only way in which\n",
        "a levee fails is by being overtopped (note: this is unrealistic).\n",
        "\n",
        "We can assess the probability of levee overtopping by comparing its\n",
        "height to a distribution of extreme sea levels. A common approach is to\n",
        "look at the distribution of the highest sea level each year. These\n",
        "extreme sea levels can be obtained by combining the absolute sea level\n",
        "(we will use our distribution of global sea levels for this), the rate\n",
        "of subsidence (how much the ground sinks), and the distribution of storm\n",
        "tides (the highest tide level, which is often the result of storm surges\n",
        "combining with high tide).\n",
        "\n",
        "Assume for this problem that:\n",
        "\n",
        "1.  the annual rate of subsidence $\\nu$ is 1.2mm/yr;\n",
        "2.  the distribution of annual storm tide maxima, above the mean sea\n",
        "    level, is (and is expected to continue to be) given by a\n",
        "    $\\text{GeneralizedExtremeValue}(900, 25, 0.3)$ distribution, which\n",
        "    looks like this:"
      ],
      "id": "f0cc99f3-d80c-4292-9d27-3c30f9eddb2d"
    },
    {
      "cell_type": "code",
      "execution_count": 6,
      "metadata": {},
      "outputs": [
        {
          "output_type": "display_data",
          "metadata": {},
          "data": {
            "text/html": [
              "<img src=\"data:image/png;base64,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\" />"
            ]
          }
        }
      ],
      "source": [
        "tide_distribution = GeneralizedExtremeValue(900, 25, 0.3)\n",
        "    histogram(rand(tide_distribution, 10000), xlabel=\"Storm Tide Height (mm)\", ylabel=\"Count\", legend=:false)"
      ],
      "id": "f2f713e3"
    },
    {
      "cell_type": "markdown",
      "metadata": {},
      "source": [
        "Feel free to just sample from `tide_distribution` in your solution\n",
        "below."
      ],
      "id": "2aaedd72-44d1-497e-8028-f15918a50609"
    },
    {
      "cell_type": "markdown",
      "metadata": {},
      "source": [
        "#### Problem 3.1 (2 points)\n",
        "\n",
        "How would you use your sea-level simulations and the above information\n",
        "to compute a distribution of extreme sea levels in 2100 relative to 2010\n",
        "mean sea level? Write down the approach in clear steps, with equations\n",
        "as needed."
      ],
      "id": "1cf0df37-efea-4fcf-a139-a96f055fe741"
    },
    {
      "cell_type": "markdown",
      "metadata": {},
      "source": [
        "#### Problem 3.2 (3 points)\n",
        "\n",
        "Follow the steps above and produce a histogram of the extreme sea levels\n",
        "in 2100 relative to 2010."
      ],
      "id": "85e4d715-27f3-4658-9164-9a9969ebfa18"
    },
    {
      "cell_type": "markdown",
      "metadata": {},
      "source": [
        "#### Problem 3.3 (5 points)\n",
        "\n",
        "The current levee was heightened in 2010 to 2m above the 2010 mean sea\n",
        "level. Based on your analysis above, what is the probability that the\n",
        "levee will be overtopped in 2100 (remember that the reliability standard\n",
        "is 1%)?"
      ],
      "id": "eac15e93-643e-4dbb-b1d1-b898b46fe685"
    },
    {
      "cell_type": "markdown",
      "metadata": {},
      "source": [
        "#### Problem 3.4 (3 points)\n",
        "\n",
        "Based on your analysis, would you recommend that the levee be heightened\n",
        "again in the future, and if so, how high? What other information might\n",
        "you need, if any, to make your recommendation?"
      ],
      "id": "1497a5f3-6da3-494a-89a7-cf573cf8c472"
    },
    {
      "cell_type": "markdown",
      "metadata": {},
      "source": [
        "## References\n",
        "\n",
        "List any external references consulted, including classmates."
      ],
      "id": "efe997db-c839-4634-b31e-09f2beebeac8"
    }
  ],
  "nbformat": 4,
  "nbformat_minor": 5,
  "metadata": {
    "kernelspec": {
      "name": "julia-1.9",
      "display_name": "Julia 1.9.3",
      "language": "julia"
    },
    "language_info": {
      "name": "julia",
      "file_extension": ".jl",
      "mimetype": "application/julia",
      "version": "1.9.3"
    }
  }
}